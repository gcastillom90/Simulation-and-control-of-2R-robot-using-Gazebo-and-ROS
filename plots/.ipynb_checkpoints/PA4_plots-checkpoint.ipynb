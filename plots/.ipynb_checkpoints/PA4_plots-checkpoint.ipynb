{
 "cells": [
  {
   "cell_type": "raw",
   "metadata": {},
   "source": [
    "import matplotlib.pyplot as plt\n",
    "import matplotlib as mpl\n",
    "import numpy as np\n",
    "\n",
    "j1 = open(\"joint1_data_1.txt\",\"r\")\t\t      #Create text files to save the data of joint angles\n",
    "j2 = open(\"joint2_data_1.txt\",\"r\")\n",
    "if j1.mode == \"r\":\n",
    "    joint1 = j1.read()\n",
    "    joint1 = joint1.split('\\n')\n",
    "    del joint1[-1]\n",
    "\n",
    "if j2.mode == \"r\":\n",
    "    joint2 = j2.read()\n",
    "    joint2 = joint2.split('\\n')\n",
    "    del joint2[-1]\n",
    "\n",
    "plt.plot(joint1,color=\"blue\", linewidth=1.5, linestyle=\"-\", label=\"\\theta_1\")   \n",
    "plt.plot(joint2,color=\"red\", linewidth=1.5, linestyle=\"-\", label=\"\\theta_2\")\n",
    "\n",
    "#Plot legend\n",
    "plt.legend(loc='upper right')\n",
    "\n",
    "#Axis format\n",
    "ax = plt.gca()  # gca stands for 'get current axis'\n",
    "ax.spines['right'].set_color('black')\n",
    "ax.spines['top'].set_color('black')\n",
    "ax.xaxis.set_ticks_position('bottom')\n",
    "#ax.spines['bottom'].set_position(('data',0))\n",
    "ax.yaxis.set_ticks_position('left')\n",
    "ax.spines['left'].set_position(('data',0))\n",
    "\n",
    "#Axis labels\n",
    "ax.set_xlabel('Steps')\n",
    "ax.set_ylabel('x(k)')\n",
    "\n",
    "# Save figure using 72 dots per inch\n",
    "plt.savefig(\"matplot.png\", dpi=200)\n",
    "\n",
    "plt.show()"
   ]
  },
  {
   "cell_type": "raw",
   "metadata": {},
   "source": []
  },
  {
   "cell_type": "raw",
   "metadata": {},
   "source": []
  },
  {
   "cell_type": "raw",
   "metadata": {},
   "source": [
    "\n"
   ]
  },
  {
   "cell_type": "raw",
   "metadata": {},
   "source": [
    "\n"
   ]
  },
  {
   "cell_type": "raw",
   "metadata": {},
   "source": []
  },
  {
   "cell_type": "raw",
   "metadata": {},
   "source": []
  },
  {
   "cell_type": "raw",
   "metadata": {},
   "source": []
  },
  {
   "cell_type": "raw",
   "metadata": {},
   "source": []
  },
  {
   "cell_type": "raw",
   "metadata": {},
   "source": []
  },
  {
   "cell_type": "raw",
   "metadata": {},
   "source": []
  }
 ],
 "metadata": {
  "kernelspec": {
   "display_name": "Python 3",
   "language": "python",
   "name": "python3"
  },
  "language_info": {
   "codemirror_mode": {
    "name": "ipython",
    "version": 3
   },
   "file_extension": ".py",
   "mimetype": "text/x-python",
   "name": "python",
   "nbconvert_exporter": "python",
   "pygments_lexer": "ipython3",
   "version": "3.6.4"
  }
 },
 "nbformat": 4,
 "nbformat_minor": 2
}
